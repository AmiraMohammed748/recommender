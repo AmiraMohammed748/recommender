{
 "cells": [
  {
   "cell_type": "code",
   "execution_count": null,
   "metadata": {
    "vscode": {
     "languageId": "plaintext"
    }
   },
   "outputs": [],
   "source": [
    "import pandas as pd\n",
    "import os\n",
    "\n",
    "# Display all columns when viewing DataFrames\n",
    "pd.set_option('display.max_columns', None)\n"
   ]
  },
  {
   "cell_type": "code",
   "execution_count": null,
   "metadata": {
    "vscode": {
     "languageId": "plaintext"
    }
   },
   "outputs": [],
   "source": [
    "# File paths\n",
    "data_path = \"../data/\"\n",
    "ratings_file = os.path.join(data_path, \"u.data\")\n",
    "movies_file = os.path.join(data_path, \"u.item\")\n",
    "users_file = os.path.join(data_path, \"u.user\")\n"
   ]
  },
  {
   "cell_type": "code",
   "execution_count": null,
   "metadata": {
    "vscode": {
     "languageId": "plaintext"
    }
   },
   "outputs": [],
   "source": [
    "column_names = ['user_id', 'item_id', 'rating', 'timestamp']\n",
    "ratings_df = pd.read_csv(ratings_file, sep='\\t', names=column_names, encoding='latin-1')\n",
    "ratings_df.drop('timestamp', axis=1, inplace=True)\n",
    "ratings_df.head()\n"
   ]
  },
  {
   "cell_type": "code",
   "execution_count": null,
   "metadata": {
    "vscode": {
     "languageId": "plaintext"
    }
   },
   "outputs": [],
   "source": [
    "movie_columns = ['item_id', 'title'] + [f'col_{i}' for i in range(22)]\n",
    "movies_df = pd.read_csv(movies_file, sep='|', names=movie_columns, encoding='latin-1', usecols=[0, 1])\n",
    "movies_df.head()\n"
   ]
  },
  {
   "cell_type": "code",
   "execution_count": null,
   "metadata": {
    "vscode": {
     "languageId": "plaintext"
    }
   },
   "outputs": [],
   "source": [
    "user_columns = ['user_id', 'age', 'gender', 'occupation', 'zip_code']\n",
    "users_df = pd.read_csv(users_file, sep='|', names=user_columns, encoding='latin-1')\n",
    "users_df.head()\n"
   ]
  },
  {
   "cell_type": "code",
   "execution_count": null,
   "metadata": {
    "vscode": {
     "languageId": "plaintext"
    }
   },
   "outputs": [],
   "source": [
    "# Merge ratings with movie titles\n",
    "ratings_movies = pd.merge(ratings_df, movies_df, on='item_id')\n",
    "\n",
    "# Optional: Merge user info too\n",
    "full_data = pd.merge(ratings_movies, users_df, on='user_id')\n",
    "\n",
    "# Preview the merged dataset\n",
    "full_data.head()\n"
   ]
  },
  {
   "cell_type": "code",
   "execution_count": null,
   "metadata": {
    "vscode": {
     "languageId": "plaintext"
    }
   },
   "outputs": [],
   "source": [
    "full_data.to_csv(\"../results/merged_data.csv\", index=False)\n"
   ]
  }
 ],
 "metadata": {
  "language_info": {
   "name": "python"
  }
 },
 "nbformat": 4,
 "nbformat_minor": 2
}
