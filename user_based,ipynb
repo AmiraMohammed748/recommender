from surprise import Dataset, Reader, KNNBasic
from surprise.model_selection import train_test_split
from surprise import accuracy
import pandas as pd
# Load u.data with Surprise
reader = Reader(line_format='user item rating timestamp', sep='\t')
data = Dataset.load_from_file('../data/u.data', reader=reader)
# If you've already preprocessed into a DataFrame
ratings_df = pd.read_csv('../results/merged_data.csv')

# Use only relevant columns
reader = Reader(rating_scale=(1, 5))
data = Dataset.load_from_df(ratings_df[['user_id', 'item_id', 'rating']], reader)
trainset, testset = train_test_split(data, test_size=0.2, random_state=42)
# User-based collaborative filtering
sim_options = {
    'name': 'cosine',
    'user_based': True  # True => User-Based
}

algo = KNNBasic(sim_options=sim_options)
algo.fit(trainset)
predictions = algo.test(testset)

# Calculate RMSE
rmse = accuracy.rmse(predictions)
from collections import defaultdict

def get_top_n(predictions, n=10):
    top_n = defaultdict(list)
    for uid, iid, true_r, est, _ in predictions:
        top_n[uid].append((iid, est))
    for uid, user_ratings in top_n.items():
        user_ratings.sort(key=lambda x: x[1], reverse=True)
        top_n[uid] = user_ratings[:n]
    return top_n

top_n = get_top_n(predictions, n=5)

# Display recommendations for first 3 users
for uid, user_ratings in list(top_n.items())[:3]:
    print(f"User {uid}: {[iid for (iid, _) in user_ratings]}")
