{
 "cells": [
  {
   "cell_type": "code",
   "execution_count": null,
   "metadata": {
    "vscode": {
     "languageId": "plaintext"
    }
   },
   "outputs": [],
   "source": [
    "# Load dataset from file\n",
    "reader = Reader(line_format='user item rating timestamp', sep='\\t')\n",
    "data = Dataset.load_from_file('../data/u.data', reader=reader)\n",
    "\n",
    "# Full training and test sets\n",
    "trainset, testset = train_test_split(data, test_size=0.2, random_state=42)\n"
   ]
  },
  {
   "cell_type": "code",
   "execution_count": null,
   "metadata": {
    "vscode": {
     "languageId": "plaintext"
    }
   },
   "outputs": [],
   "source": [
    "def evaluate_model(user_based=True):\n",
    "    sim_options = {'name': 'cosine', 'user_based': user_based}\n",
    "    algo = KNNBasic(sim_options=sim_options)\n",
    "    algo.fit(trainset)\n",
    "    predictions = algo.test(testset)\n",
    "    rmse = accuracy.rmse(predictions, verbose=False)\n",
    "    return rmse\n",
    "\n",
    "user_rmse = evaluate_model(user_based=True)\n",
    "item_rmse = evaluate_model(user_based=False)\n",
    "\n",
    "print(f\"User-Based CF RMSE: {user_rmse:.4f}\")\n",
    "print(f\"Item-Based CF RMSE: {item_rmse:.4f}\")\n"
   ]
  },
  {
   "cell_type": "code",
   "execution_count": null,
   "metadata": {
    "vscode": {
     "languageId": "plaintext"
    }
   },
   "outputs": [],
   "source": [
    "rmse_data = pd.DataFrame({\n",
    "    'Method': ['User-Based', 'Item-Based'],\n",
    "    'RMSE': [user_rmse, item_rmse]\n",
    "})\n",
    "\n",
    "sns.barplot(data=rmse_data, x='Method', y='RMSE')\n",
    "plt.title('RMSE Comparison')\n",
    "plt.ylabel('RMSE')\n",
    "plt.show()\n"
   ]
  }
 ],
 "metadata": {
  "language_info": {
   "name": "python"
  }
 },
 "nbformat": 4,
 "nbformat_minor": 2
}
